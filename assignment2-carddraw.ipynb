{
 "cells": [
  {
   "cell_type": "code",
   "execution_count": 7,
   "metadata": {},
   "outputs": [
    {
     "name": "stdout",
     "output_type": "stream",
     "text": [
      "5 of SPADES\n",
      "2 of HEARTS\n",
      "4 of SPADES\n",
      "KING of DIAMONDS\n",
      "3 of DIAMONDS\n"
     ]
    }
   ],
   "source": [
    "import requests\n",
    "\n",
    "deck_id = requests.get(\"https://deckofcardsapi.com/api/deck/new/shuffle/?deck_count=1\").json()[\"deck_id\"]\n",
    "cards = requests.get(f\"https://deckofcardsapi.com/api/deck/{deck_id}/draw/?count=5\").json()[\"cards\"]\n",
    "\n",
    "for card in cards:\n",
    "    print(f\"{card['value']} of {card['suit']}\")\n",
    "\n"
   ]
  },
  {
   "cell_type": "markdown",
   "metadata": {},
   "source": [
    "Check if the user has drawn a pair, triple, straight, or all of the same suit and congratulate the user."
   ]
  }
 ],
 "metadata": {
  "kernelspec": {
   "display_name": "base",
   "language": "python",
   "name": "python3"
  },
  "language_info": {
   "codemirror_mode": {
    "name": "ipython",
    "version": 3
   },
   "file_extension": ".py",
   "mimetype": "text/x-python",
   "name": "python",
   "nbconvert_exporter": "python",
   "pygments_lexer": "ipython3",
   "version": "3.11.9"
  }
 },
 "nbformat": 4,
 "nbformat_minor": 2
}
